{
 "cells": [
  {
   "cell_type": "code",
   "execution_count": 4,
   "id": "db249b7a-9894-4445-a090-8eca9ae98989",
   "metadata": {},
   "outputs": [],
   "source": [
    "#ans1\n"
   ]
  },
  {
   "cell_type": "code",
   "execution_count": 10,
   "id": "99dfdb6d-6b60-42ad-b6a8-9748e7772ecc",
   "metadata": {},
   "outputs": [],
   "source": [
    "class vechile:\n",
    "    def __init__(self,name_of_vechile,max_speed,average_of_vechile):\n",
    "        self.name=name_of_vechile\n",
    "        self.max_speed=max_speed\n",
    "        self.average_speed=average_of_vechile\n",
    "\n"
   ]
  },
  {
   "cell_type": "code",
   "execution_count": null,
   "id": "93f00bf6-4b52-4cd3-89ed-4eb36cd7e6cb",
   "metadata": {},
   "outputs": [],
   "source": []
  },
  {
   "cell_type": "code",
   "execution_count": null,
   "id": "36d874ed-79ef-4aa3-a445-be616503076d",
   "metadata": {},
   "outputs": [],
   "source": []
  },
  {
   "cell_type": "code",
   "execution_count": null,
   "id": "3b8cf144-2e11-44f0-be7d-eea3692a8a97",
   "metadata": {},
   "outputs": [],
   "source": []
  },
  {
   "cell_type": "code",
   "execution_count": null,
   "id": "b1529714-4700-4503-b9fe-35ae7f93ac3f",
   "metadata": {},
   "outputs": [],
   "source": []
  },
  {
   "cell_type": "code",
   "execution_count": 11,
   "id": "d310f20d-7de9-4877-b576-0bc7b1826c93",
   "metadata": {},
   "outputs": [],
   "source": [
    "#ans2\n"
   ]
  },
  {
   "cell_type": "code",
   "execution_count": 12,
   "id": "ad5da618-9057-403b-8fa5-c91a65bca634",
   "metadata": {},
   "outputs": [],
   "source": [
    "class car(vechile):\n",
    "\n",
    "    def seating_capacity(self,capacity):\n",
    "        self.capacity=capacity\n",
    "        return self.name,self.capacity"
   ]
  },
  {
   "cell_type": "code",
   "execution_count": 14,
   "id": "d80fe4f4-510d-454c-9dbf-137f128f446c",
   "metadata": {},
   "outputs": [],
   "source": [
    "c=car(\"shift\",180,90)"
   ]
  },
  {
   "cell_type": "code",
   "execution_count": 15,
   "id": "a766e6a3-b848-41e4-aa58-b88efe752988",
   "metadata": {},
   "outputs": [
    {
     "data": {
      "text/plain": [
       "('shift', 5)"
      ]
     },
     "execution_count": 15,
     "metadata": {},
     "output_type": "execute_result"
    }
   ],
   "source": [
    "c.seating_capacity(5)"
   ]
  },
  {
   "cell_type": "code",
   "execution_count": 16,
   "id": "1935f5a6-b995-4a4e-a2d9-227da2109b45",
   "metadata": {},
   "outputs": [],
   "source": [
    "#When a class is derived from more than one base class it is called multiple Inheritance. The derived class inherits all the features of the base case.\n",
    " "
   ]
  },
  {
   "cell_type": "code",
   "execution_count": 17,
   "id": "c7724dd8-e4c3-41db-85d1-7ab96273eea6",
   "metadata": {},
   "outputs": [],
   "source": [
    "class Mammal:\n",
    "    def mammal_info(self):\n",
    "        print(\"Mammals can give direct birth.\")\n",
    "\n",
    "class WingedAnimal:\n",
    "    def winged_animal_info(self):\n",
    "        print(\"Winged animals can flap.\")\n",
    "\n",
    "class Bat(Mammal, WingedAnimal):\n",
    "    pass"
   ]
  },
  {
   "cell_type": "code",
   "execution_count": 18,
   "id": "a968f239-5c2e-4b81-a642-6b674d8d9641",
   "metadata": {},
   "outputs": [],
   "source": [
    "b1=Bat()"
   ]
  },
  {
   "cell_type": "code",
   "execution_count": 19,
   "id": "47b8ccae-b901-49cc-a0f7-a2181a7dcd7b",
   "metadata": {},
   "outputs": [
    {
     "name": "stdout",
     "output_type": "stream",
     "text": [
      "Winged animals can flap.\n"
     ]
    }
   ],
   "source": [
    "b1.winged_animal_info()"
   ]
  },
  {
   "cell_type": "code",
   "execution_count": 20,
   "id": "2565c4d2-22df-4f98-8bdf-339bb9316580",
   "metadata": {},
   "outputs": [
    {
     "name": "stdout",
     "output_type": "stream",
     "text": [
      "Mammals can give direct birth.\n"
     ]
    }
   ],
   "source": [
    "b1.mammal_info()"
   ]
  },
  {
   "cell_type": "code",
   "execution_count": null,
   "id": "80d11659-3d24-4ac1-880b-da598b680b95",
   "metadata": {},
   "outputs": [],
   "source": []
  },
  {
   "cell_type": "code",
   "execution_count": null,
   "id": "f41f1555-c7e4-4cd8-9989-15569c51a17b",
   "metadata": {},
   "outputs": [],
   "source": []
  },
  {
   "cell_type": "code",
   "execution_count": null,
   "id": "7e6e169b-46c2-4b46-9d00-f5c0807469c0",
   "metadata": {},
   "outputs": [],
   "source": []
  },
  {
   "cell_type": "code",
   "execution_count": 21,
   "id": "60a6c4d4-30d2-4081-b938-56ef1b1a0069",
   "metadata": {},
   "outputs": [],
   "source": [
    "#ans4\n"
   ]
  },
  {
   "cell_type": "code",
   "execution_count": 22,
   "id": "f8172ccb-d348-41f2-9cd0-a26ce9f5674c",
   "metadata": {},
   "outputs": [],
   "source": [
    "#Getter: A method that allows you to access an attribute in a given class. Setter: A method that allows you to set or mutate the value of an attribute in a class"
   ]
  },
  {
   "cell_type": "code",
   "execution_count": 23,
   "id": "c97ddd9c-9af5-4bdc-afa1-7d5a023cc4da",
   "metadata": {},
   "outputs": [],
   "source": [
    "class Geek:\n",
    "    def __init__(self, age = 0):\n",
    "         self.__age = age\n",
    "      \n",
    "    # getter method\n",
    "    def get_age(self):\n",
    "        return self.__age\n",
    "      \n",
    "    # setter method\n",
    "    def set_age(self, x):\n",
    "        self.__age = x"
   ]
  },
  {
   "cell_type": "code",
   "execution_count": 26,
   "id": "98594eb8-1a7b-479a-9933-7eb273b2dcbe",
   "metadata": {},
   "outputs": [],
   "source": [
    "raj=Geek(40)\n"
   ]
  },
  {
   "cell_type": "code",
   "execution_count": 27,
   "id": "d4f87994-f15a-4e7d-83dc-de9f0a94cabd",
   "metadata": {},
   "outputs": [
    {
     "data": {
      "text/plain": [
       "40"
      ]
     },
     "execution_count": 27,
     "metadata": {},
     "output_type": "execute_result"
    }
   ],
   "source": [
    "raj.get_age()"
   ]
  },
  {
   "cell_type": "code",
   "execution_count": 28,
   "id": "95562c49-5b3b-4ce4-b71b-2d03b99869e2",
   "metadata": {},
   "outputs": [],
   "source": [
    "raj.set_age(50)"
   ]
  },
  {
   "cell_type": "code",
   "execution_count": 29,
   "id": "54e15028-c542-4305-b5af-bbec069573f0",
   "metadata": {},
   "outputs": [
    {
     "data": {
      "text/plain": [
       "50"
      ]
     },
     "execution_count": 29,
     "metadata": {},
     "output_type": "execute_result"
    }
   ],
   "source": [
    "raj.get_age()"
   ]
  },
  {
   "cell_type": "code",
   "execution_count": null,
   "id": "e47f8e0c-27eb-4b0f-9862-689df5fc09fe",
   "metadata": {},
   "outputs": [],
   "source": []
  },
  {
   "cell_type": "code",
   "execution_count": null,
   "id": "c93ddd11-a733-433e-b5c9-201f12d9cd88",
   "metadata": {},
   "outputs": [],
   "source": []
  },
  {
   "cell_type": "code",
   "execution_count": null,
   "id": "4597c69e-a87f-40aa-93d8-295bf0dacafc",
   "metadata": {},
   "outputs": [],
   "source": []
  },
  {
   "cell_type": "code",
   "execution_count": 30,
   "id": "c41cb3a2-b51e-4fb1-8826-898c412e58d6",
   "metadata": {},
   "outputs": [],
   "source": [
    "#ans5\n"
   ]
  },
  {
   "cell_type": "code",
   "execution_count": null,
   "id": "459b1a68-069c-4883-ad73-0340f0d5de3f",
   "metadata": {},
   "outputs": [],
   "source": [
    "#Method overriding is an ability of any object-oriented programming language that allows a subclass or child class to provide a specific implementation of a method that is already provided by one of its super-classes or parent classes. When a method in a subclass has the same name, same parameters or signature and same return type(or sub-type) as a method in its super-class, then the method in the subclass is said to override the method in the super-class."
   ]
  },
  {
   "cell_type": "code",
   "execution_count": 31,
   "id": "dd9eb71a-e182-43a2-978d-d2ece7840979",
   "metadata": {},
   "outputs": [],
   "source": [
    "class Parent():\n",
    "      \n",
    "\n",
    "    def __init__(self):\n",
    "        self.value = \"Inside Parent\"\n",
    "          \n",
    "    # Parent's show method\n",
    "    def show(self):\n",
    "        print(self.value)\n",
    "          \n",
    "# Defining child class\n",
    "class Child(Parent):\n",
    "      \n",
    "    # Constructor\n",
    "    def __init__(self):\n",
    "        self.value = \"Inside Child\"\n",
    "          \n",
    "    # Child's show method\n",
    "    def show(self):\n",
    "        print(self.value)\n",
    "          "
   ]
  },
  {
   "cell_type": "code",
   "execution_count": 35,
   "id": "551f95f8-3b29-4bdb-956c-c6f3b7d6f3ae",
   "metadata": {},
   "outputs": [],
   "source": [
    "obj1=Parent()\n",
    "obj2=Child()\n"
   ]
  },
  {
   "cell_type": "code",
   "execution_count": 36,
   "id": "dae56823-0ec9-4131-b3f6-f401b0b27dda",
   "metadata": {},
   "outputs": [
    {
     "name": "stdout",
     "output_type": "stream",
     "text": [
      "Inside Parent\n"
     ]
    }
   ],
   "source": [
    "obj1.show()"
   ]
  },
  {
   "cell_type": "code",
   "execution_count": 37,
   "id": "426dfa70-bd98-48ba-a621-a64f3fcbf461",
   "metadata": {},
   "outputs": [
    {
     "name": "stdout",
     "output_type": "stream",
     "text": [
      "Inside Child\n"
     ]
    }
   ],
   "source": [
    "obj2.show()"
   ]
  },
  {
   "cell_type": "code",
   "execution_count": null,
   "id": "b6513ea0-2cc6-405d-b586-d5c775cbe171",
   "metadata": {},
   "outputs": [],
   "source": []
  }
 ],
 "metadata": {
  "kernelspec": {
   "display_name": "Python 3 (ipykernel)",
   "language": "python",
   "name": "python3"
  },
  "language_info": {
   "codemirror_mode": {
    "name": "ipython",
    "version": 3
   },
   "file_extension": ".py",
   "mimetype": "text/x-python",
   "name": "python",
   "nbconvert_exporter": "python",
   "pygments_lexer": "ipython3",
   "version": "3.10.6"
  }
 },
 "nbformat": 4,
 "nbformat_minor": 5
}
